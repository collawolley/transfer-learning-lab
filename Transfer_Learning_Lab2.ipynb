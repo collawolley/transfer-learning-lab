{
 "cells": [
  {
   "cell_type": "markdown",
   "metadata": {},
   "source": [
    "# Transfer Learning Lab with VGG, Inception and ResNet\n",
    "\n",
    "\n"
   ]
  },
  {
   "cell_type": "code",
   "execution_count": 5,
   "metadata": {
    "collapsed": false
   },
   "outputs": [],
   "source": [
    "import pickle\n",
    "\n",
    "def load_bottleneck_data(network, dataset):\n",
    "    \"\"\"\n",
    "    Utility function to load bottleneck features.\n",
    "    \n",
    "    Arguments:\n",
    "        network - String, one of 'resnet', 'vgg', 'inception'\n",
    "        dataset - String, one of 'cifar10', 'traffic'\n",
    "    \"\"\"\n",
    "    train_file = 'bottlenecks/{}_{}_bottleneck_features_train.p'.format(network, dataset)\n",
    "    validation_file = 'bottlenecks/{}_{}_bottleneck_features_validation.p'.format(network, dataset)\n",
    "        \n",
    "    with open(train_file, 'rb') as f:\n",
    "        train_data = pickle.load(f)\n",
    "    with open(validation_file, 'rb') as f:\n",
    "        validation_data = pickle.load(f)\n",
    "        \n",
    "    X_train = train_data['features']\n",
    "    y_train = train_data['labels']\n",
    "    X_val = validation_data['features']\n",
    "    y_val = validation_data['labels']\n",
    "    \n",
    "    return X_train, y_train, X_val, y_val"
   ]
  },
  {
   "cell_type": "code",
   "execution_count": 7,
   "metadata": {
    "collapsed": false
   },
   "outputs": [],
   "source": [
    "# load bottleneck data\n",
    "X_train, y_train, X_val, y_val = load_bottleneck_data('vgg', 'cifar10')"
   ]
  },
  {
   "cell_type": "code",
   "execution_count": 8,
   "metadata": {
    "collapsed": false
   },
   "outputs": [
    {
     "name": "stdout",
     "output_type": "stream",
     "text": [
      "(40000, 1, 1, 512) (40000, 1)\n",
      "(10000, 1, 1, 512) (10000, 1)\n"
     ]
    }
   ],
   "source": [
    "print(X_train.shape, y_train.shape)\n",
    "print(X_val.shape, y_val.shape)"
   ]
  },
  {
   "cell_type": "code",
   "execution_count": null,
   "metadata": {
    "collapsed": true
   },
   "outputs": [],
   "source": [
    "# TODO: define your model and hyperparams here\n",
    "# make sure to adjust the number of classes based on\n",
    "# the dataset\n",
    "# 10 for cifar10\n",
    "# 43 for traffic"
   ]
  },
  {
   "cell_type": "code",
   "execution_count": null,
   "metadata": {
    "collapsed": true
   },
   "outputs": [],
   "source": [
    "# TODO: train your model here"
   ]
  }
 ],
 "metadata": {
  "anaconda-cloud": {},
  "kernelspec": {
   "display_name": "Python [default]",
   "language": "python",
   "name": "python3"
  },
  "language_info": {
   "codemirror_mode": {
    "name": "ipython",
    "version": 3
   },
   "file_extension": ".py",
   "mimetype": "text/x-python",
   "name": "python",
   "nbconvert_exporter": "python",
   "pygments_lexer": "ipython3",
   "version": "3.5.2"
  }
 },
 "nbformat": 4,
 "nbformat_minor": 1
}
